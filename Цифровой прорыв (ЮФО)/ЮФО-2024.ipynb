{
 "cells": [
  {
   "cell_type": "code",
   "execution_count": 1,
   "id": "4338d42b-3bc9-41a6-939b-da70934bbac8",
   "metadata": {},
   "outputs": [],
   "source": [
    "import numpy as np \n",
    "import pandas as pd \n",
    "import matplotlib.pyplot as plt \n",
    "import seaborn as sns "
   ]
  },
  {
   "cell_type": "code",
   "execution_count": 3,
   "id": "11d70675-fa38-4f6c-8526-3a22e55c9700",
   "metadata": {},
   "outputs": [],
   "source": [
    "train = pd.read_csv('train.csv')"
   ]
  },
  {
   "cell_type": "code",
   "execution_count": 7,
   "id": "3cccc427-0783-49c1-896c-7d450b42ec23",
   "metadata": {},
   "outputs": [
    {
     "name": "stdout",
     "output_type": "stream",
     "text": [
      "<class 'pandas.core.frame.DataFrame'>\n",
      "RangeIndex: 3589918 entries, 0 to 3589917\n",
      "Data columns (total 42 columns):\n",
      " #   Column                  Dtype  \n",
      "---  ------                  -----  \n",
      " 0   slctn_nmbr              int64  \n",
      " 1   client_id               object \n",
      " 2   npo_account_id          object \n",
      " 3   npo_accnts_nmbr         int64  \n",
      " 4   pmnts_type              int64  \n",
      " 5   year                    int64  \n",
      " 6   quarter                 object \n",
      " 7   gender                  int64  \n",
      " 8   age                     int64  \n",
      " 9   clnt_cprtn_time_d       int64  \n",
      " 10  actv_prd_d              int64  \n",
      " 11  lst_pmnt_rcnc_d         int64  \n",
      " 12  balance                 float64\n",
      " 13  oprtn_sum_per_qrtr      float64\n",
      " 14  oprtn_sum_per_year      float64\n",
      " 15  frst_pmnt_date          object \n",
      " 16  lst_pmnt_date_per_qrtr  object \n",
      " 17  frst_pmnt               float64\n",
      " 18  lst_pmnt                float64\n",
      " 19  pmnts_sum               float64\n",
      " 20  pmnts_nmbr              int64  \n",
      " 21  pmnts_sum_per_qrtr      float64\n",
      " 22  pmnts_sum_per_year      float64\n",
      " 23  pmnts_nmbr_per_qrtr     int64  \n",
      " 24  pmnts_nmbr_per_year     int64  \n",
      " 25  incm_sum                float64\n",
      " 26  incm_per_qrtr           float64\n",
      " 27  incm_per_year           float64\n",
      " 28  mgd_accum_period        float64\n",
      " 29  mgd_payment_period      float64\n",
      " 30  phone_number            int64  \n",
      " 31  email                   int64  \n",
      " 32  lk                      int64  \n",
      " 33  assignee_npo            int64  \n",
      " 34  assignee_ops            int64  \n",
      " 35  postal_code             float64\n",
      " 36  region                  object \n",
      " 37  citizen                 int64  \n",
      " 38  fact_addrss             int64  \n",
      " 39  appl_mrkr               int64  \n",
      " 40  evry_qrtr_pmnt          int64  \n",
      " 41  churn                   int64  \n",
      "dtypes: float64(14), int64(22), object(6)\n",
      "memory usage: 1.1+ GB\n"
     ]
    }
   ],
   "source": [
    "train.info()"
   ]
  },
  {
   "cell_type": "code",
   "execution_count": 11,
   "id": "edf7a3c2-93ce-4968-9072-b17f8f535a2f",
   "metadata": {},
   "outputs": [
    {
     "data": {
      "text/html": [
       "<div>\n",
       "<style scoped>\n",
       "    .dataframe tbody tr th:only-of-type {\n",
       "        vertical-align: middle;\n",
       "    }\n",
       "\n",
       "    .dataframe tbody tr th {\n",
       "        vertical-align: top;\n",
       "    }\n",
       "\n",
       "    .dataframe thead th {\n",
       "        text-align: right;\n",
       "    }\n",
       "</style>\n",
       "<table border=\"1\" class=\"dataframe\">\n",
       "  <thead>\n",
       "    <tr style=\"text-align: right;\">\n",
       "      <th></th>\n",
       "      <th>client_id</th>\n",
       "      <th>npo_account_id</th>\n",
       "      <th>quarter</th>\n",
       "      <th>frst_pmnt_date</th>\n",
       "      <th>lst_pmnt_date_per_qrtr</th>\n",
       "      <th>region</th>\n",
       "    </tr>\n",
       "  </thead>\n",
       "  <tbody>\n",
       "    <tr>\n",
       "      <th>0</th>\n",
       "      <td>0xA095932790098744A2325A8D152C05C7</td>\n",
       "      <td>0xD4DBBAC6561929409BA45725A220613E</td>\n",
       "      <td>2017Q4</td>\n",
       "      <td>1999-07-02</td>\n",
       "      <td>NaN</td>\n",
       "      <td>САМАРСКАЯ ОБЛ</td>\n",
       "    </tr>\n",
       "    <tr>\n",
       "      <th>1</th>\n",
       "      <td>0xF75BAA20A603A2479005DEB80464336E</td>\n",
       "      <td>0x3DCFF11974B3D8458CE3569DE9E855D5</td>\n",
       "      <td>2009Q1</td>\n",
       "      <td>2004-12-31</td>\n",
       "      <td>2009-03-11</td>\n",
       "      <td>ЛИПЕЦКАЯ ОБЛ</td>\n",
       "    </tr>\n",
       "    <tr>\n",
       "      <th>2</th>\n",
       "      <td>0x0D18081E0556AF4F95A931FBA4159D52</td>\n",
       "      <td>0x9DADF88CB3407C4E89403315F640393E</td>\n",
       "      <td>2010Q1</td>\n",
       "      <td>2007-02-20</td>\n",
       "      <td>2010-03-17</td>\n",
       "      <td>ОРЛОВСКАЯ ОБЛ</td>\n",
       "    </tr>\n",
       "    <tr>\n",
       "      <th>3</th>\n",
       "      <td>0x0AD72BC5475D9A4D83E12350A84F839D</td>\n",
       "      <td>0xF59C4E62F115684899EAE9B5D5ECF70F</td>\n",
       "      <td>2005Q4</td>\n",
       "      <td>2005-12-29</td>\n",
       "      <td>2005-12-29</td>\n",
       "      <td>СВЕРДЛОВСКАЯ ОБЛ</td>\n",
       "    </tr>\n",
       "    <tr>\n",
       "      <th>4</th>\n",
       "      <td>0x73DF06339CC25840838408BAD52BE223</td>\n",
       "      <td>0x35BFFA05321C014B9FC29A189E89EDF0</td>\n",
       "      <td>2007Q4</td>\n",
       "      <td>2005-08-08</td>\n",
       "      <td>2007-12-09</td>\n",
       "      <td>ЛИПЕЦКАЯ ОБЛ</td>\n",
       "    </tr>\n",
       "    <tr>\n",
       "      <th>...</th>\n",
       "      <td>...</td>\n",
       "      <td>...</td>\n",
       "      <td>...</td>\n",
       "      <td>...</td>\n",
       "      <td>...</td>\n",
       "      <td>...</td>\n",
       "    </tr>\n",
       "    <tr>\n",
       "      <th>3589913</th>\n",
       "      <td>0x12428DF10AD2FA4C87D58BCB129F8229</td>\n",
       "      <td>0xD4B2B35E64A82A4D8F31BB7F59FC38C7</td>\n",
       "      <td>2012Q2</td>\n",
       "      <td>2005-12-31</td>\n",
       "      <td>2012-05-08</td>\n",
       "      <td>ВОЛОГОДСКАЯ ОБЛ</td>\n",
       "    </tr>\n",
       "    <tr>\n",
       "      <th>3589914</th>\n",
       "      <td>0xEAB12A86D0D0BD4DAAF3BFA200C0984B</td>\n",
       "      <td>0x0097B39ACA692B47901EE986CA14D5E8</td>\n",
       "      <td>2018Q4</td>\n",
       "      <td>2015-09-14</td>\n",
       "      <td>2018-12-13</td>\n",
       "      <td>ХАНТЫ-МАНСИЙСКИЙ АВТОНОМНЫЙ ОКРУГ - ЮГРА АО</td>\n",
       "    </tr>\n",
       "    <tr>\n",
       "      <th>3589915</th>\n",
       "      <td>0xD080C4231A7BB04D821375C279B85B1E</td>\n",
       "      <td>0x94E87C78A97EBC478F4C7CC5F908C756</td>\n",
       "      <td>2016Q4</td>\n",
       "      <td>2015-09-14</td>\n",
       "      <td>2016-12-13</td>\n",
       "      <td>ХАНТЫ-МАНСИЙСКИЙ АВТОНОМНЫЙ ОКРУГ - ЮГРА АО</td>\n",
       "    </tr>\n",
       "    <tr>\n",
       "      <th>3589916</th>\n",
       "      <td>0xF7C3ABC2295CC140A3B7EA53CB9B39DF</td>\n",
       "      <td>0xBB31CAEA5AF97C418942F2B68341D992</td>\n",
       "      <td>1999Q1</td>\n",
       "      <td>1997-07-29</td>\n",
       "      <td>NaN</td>\n",
       "      <td>КАЛУЖСКАЯ ОБЛ</td>\n",
       "    </tr>\n",
       "    <tr>\n",
       "      <th>3589917</th>\n",
       "      <td>0x8E93810E0FF1594D979109FCDC8714F2</td>\n",
       "      <td>0xD0A0F128094EEA4686B35F70B152B42B</td>\n",
       "      <td>2010Q1</td>\n",
       "      <td>1997-08-19</td>\n",
       "      <td>NaN</td>\n",
       "      <td>ТАМБОВСКАЯ ОБЛ</td>\n",
       "    </tr>\n",
       "  </tbody>\n",
       "</table>\n",
       "<p>3589918 rows × 6 columns</p>\n",
       "</div>"
      ],
      "text/plain": [
       "                                  client_id  \\\n",
       "0        0xA095932790098744A2325A8D152C05C7   \n",
       "1        0xF75BAA20A603A2479005DEB80464336E   \n",
       "2        0x0D18081E0556AF4F95A931FBA4159D52   \n",
       "3        0x0AD72BC5475D9A4D83E12350A84F839D   \n",
       "4        0x73DF06339CC25840838408BAD52BE223   \n",
       "...                                     ...   \n",
       "3589913  0x12428DF10AD2FA4C87D58BCB129F8229   \n",
       "3589914  0xEAB12A86D0D0BD4DAAF3BFA200C0984B   \n",
       "3589915  0xD080C4231A7BB04D821375C279B85B1E   \n",
       "3589916  0xF7C3ABC2295CC140A3B7EA53CB9B39DF   \n",
       "3589917  0x8E93810E0FF1594D979109FCDC8714F2   \n",
       "\n",
       "                             npo_account_id quarter frst_pmnt_date  \\\n",
       "0        0xD4DBBAC6561929409BA45725A220613E  2017Q4     1999-07-02   \n",
       "1        0x3DCFF11974B3D8458CE3569DE9E855D5  2009Q1     2004-12-31   \n",
       "2        0x9DADF88CB3407C4E89403315F640393E  2010Q1     2007-02-20   \n",
       "3        0xF59C4E62F115684899EAE9B5D5ECF70F  2005Q4     2005-12-29   \n",
       "4        0x35BFFA05321C014B9FC29A189E89EDF0  2007Q4     2005-08-08   \n",
       "...                                     ...     ...            ...   \n",
       "3589913  0xD4B2B35E64A82A4D8F31BB7F59FC38C7  2012Q2     2005-12-31   \n",
       "3589914  0x0097B39ACA692B47901EE986CA14D5E8  2018Q4     2015-09-14   \n",
       "3589915  0x94E87C78A97EBC478F4C7CC5F908C756  2016Q4     2015-09-14   \n",
       "3589916  0xBB31CAEA5AF97C418942F2B68341D992  1999Q1     1997-07-29   \n",
       "3589917  0xD0A0F128094EEA4686B35F70B152B42B  2010Q1     1997-08-19   \n",
       "\n",
       "        lst_pmnt_date_per_qrtr                                       region  \n",
       "0                          NaN                                САМАРСКАЯ ОБЛ  \n",
       "1                   2009-03-11                                 ЛИПЕЦКАЯ ОБЛ  \n",
       "2                   2010-03-17                                ОРЛОВСКАЯ ОБЛ  \n",
       "3                   2005-12-29                             СВЕРДЛОВСКАЯ ОБЛ  \n",
       "4                   2007-12-09                                 ЛИПЕЦКАЯ ОБЛ  \n",
       "...                        ...                                          ...  \n",
       "3589913             2012-05-08                              ВОЛОГОДСКАЯ ОБЛ  \n",
       "3589914             2018-12-13  ХАНТЫ-МАНСИЙСКИЙ АВТОНОМНЫЙ ОКРУГ - ЮГРА АО  \n",
       "3589915             2016-12-13  ХАНТЫ-МАНСИЙСКИЙ АВТОНОМНЫЙ ОКРУГ - ЮГРА АО  \n",
       "3589916                    NaN                                КАЛУЖСКАЯ ОБЛ  \n",
       "3589917                    NaN                               ТАМБОВСКАЯ ОБЛ  \n",
       "\n",
       "[3589918 rows x 6 columns]"
      ]
     },
     "execution_count": 11,
     "metadata": {},
     "output_type": "execute_result"
    }
   ],
   "source": [
    "train.select_dtypes(include=['object']) \n",
    "# Категориальные колонки "
   ]
  },
  {
   "cell_type": "code",
   "execution_count": 13,
   "id": "c65ee255-c390-4fab-b5a8-928e2dbd4ba7",
   "metadata": {},
   "outputs": [
    {
     "data": {
      "text/plain": [
       "Index(['frst_pmnt_date', 'lst_pmnt_date_per_qrtr', 'postal_code', 'region'], dtype='object')"
      ]
     },
     "execution_count": 13,
     "metadata": {},
     "output_type": "execute_result"
    }
   ],
   "source": [
    "train.columns[train.isnull().any()] \n",
    "# Всего 4 колонки содержат Null, глянем их "
   ]
  },
  {
   "cell_type": "code",
   "execution_count": 17,
   "id": "d0600014-fde8-4d40-8b06-da2c7d2300e9",
   "metadata": {},
   "outputs": [
    {
     "data": {
      "text/html": [
       "<div>\n",
       "<style scoped>\n",
       "    .dataframe tbody tr th:only-of-type {\n",
       "        vertical-align: middle;\n",
       "    }\n",
       "\n",
       "    .dataframe tbody tr th {\n",
       "        vertical-align: top;\n",
       "    }\n",
       "\n",
       "    .dataframe thead th {\n",
       "        text-align: right;\n",
       "    }\n",
       "</style>\n",
       "<table border=\"1\" class=\"dataframe\">\n",
       "  <thead>\n",
       "    <tr style=\"text-align: right;\">\n",
       "      <th></th>\n",
       "      <th>frst_pmnt_date</th>\n",
       "      <th>lst_pmnt_date_per_qrtr</th>\n",
       "      <th>postal_code</th>\n",
       "      <th>region</th>\n",
       "    </tr>\n",
       "  </thead>\n",
       "  <tbody>\n",
       "    <tr>\n",
       "      <th>0</th>\n",
       "      <td>1999-07-02</td>\n",
       "      <td>NaN</td>\n",
       "      <td>446254.0</td>\n",
       "      <td>САМАРСКАЯ ОБЛ</td>\n",
       "    </tr>\n",
       "    <tr>\n",
       "      <th>1</th>\n",
       "      <td>2004-12-31</td>\n",
       "      <td>2009-03-11</td>\n",
       "      <td>399841.0</td>\n",
       "      <td>ЛИПЕЦКАЯ ОБЛ</td>\n",
       "    </tr>\n",
       "    <tr>\n",
       "      <th>2</th>\n",
       "      <td>2007-02-20</td>\n",
       "      <td>2010-03-17</td>\n",
       "      <td>302038.0</td>\n",
       "      <td>ОРЛОВСКАЯ ОБЛ</td>\n",
       "    </tr>\n",
       "    <tr>\n",
       "      <th>3</th>\n",
       "      <td>2005-12-29</td>\n",
       "      <td>2005-12-29</td>\n",
       "      <td>620034.0</td>\n",
       "      <td>СВЕРДЛОВСКАЯ ОБЛ</td>\n",
       "    </tr>\n",
       "    <tr>\n",
       "      <th>4</th>\n",
       "      <td>2005-08-08</td>\n",
       "      <td>2007-12-09</td>\n",
       "      <td>398035.0</td>\n",
       "      <td>ЛИПЕЦКАЯ ОБЛ</td>\n",
       "    </tr>\n",
       "    <tr>\n",
       "      <th>...</th>\n",
       "      <td>...</td>\n",
       "      <td>...</td>\n",
       "      <td>...</td>\n",
       "      <td>...</td>\n",
       "    </tr>\n",
       "    <tr>\n",
       "      <th>3589913</th>\n",
       "      <td>2005-12-31</td>\n",
       "      <td>2012-05-08</td>\n",
       "      <td>162690.0</td>\n",
       "      <td>ВОЛОГОДСКАЯ ОБЛ</td>\n",
       "    </tr>\n",
       "    <tr>\n",
       "      <th>3589914</th>\n",
       "      <td>2015-09-14</td>\n",
       "      <td>2018-12-13</td>\n",
       "      <td>628303.0</td>\n",
       "      <td>ХАНТЫ-МАНСИЙСКИЙ АВТОНОМНЫЙ ОКРУГ - ЮГРА АО</td>\n",
       "    </tr>\n",
       "    <tr>\n",
       "      <th>3589915</th>\n",
       "      <td>2015-09-14</td>\n",
       "      <td>2016-12-13</td>\n",
       "      <td>628401.0</td>\n",
       "      <td>ХАНТЫ-МАНСИЙСКИЙ АВТОНОМНЫЙ ОКРУГ - ЮГРА АО</td>\n",
       "    </tr>\n",
       "    <tr>\n",
       "      <th>3589916</th>\n",
       "      <td>1997-07-29</td>\n",
       "      <td>NaN</td>\n",
       "      <td>249130.0</td>\n",
       "      <td>КАЛУЖСКАЯ ОБЛ</td>\n",
       "    </tr>\n",
       "    <tr>\n",
       "      <th>3589917</th>\n",
       "      <td>1997-08-19</td>\n",
       "      <td>NaN</td>\n",
       "      <td>393131.0</td>\n",
       "      <td>ТАМБОВСКАЯ ОБЛ</td>\n",
       "    </tr>\n",
       "  </tbody>\n",
       "</table>\n",
       "<p>3589918 rows × 4 columns</p>\n",
       "</div>"
      ],
      "text/plain": [
       "        frst_pmnt_date lst_pmnt_date_per_qrtr  postal_code  \\\n",
       "0           1999-07-02                    NaN     446254.0   \n",
       "1           2004-12-31             2009-03-11     399841.0   \n",
       "2           2007-02-20             2010-03-17     302038.0   \n",
       "3           2005-12-29             2005-12-29     620034.0   \n",
       "4           2005-08-08             2007-12-09     398035.0   \n",
       "...                ...                    ...          ...   \n",
       "3589913     2005-12-31             2012-05-08     162690.0   \n",
       "3589914     2015-09-14             2018-12-13     628303.0   \n",
       "3589915     2015-09-14             2016-12-13     628401.0   \n",
       "3589916     1997-07-29                    NaN     249130.0   \n",
       "3589917     1997-08-19                    NaN     393131.0   \n",
       "\n",
       "                                              region  \n",
       "0                                      САМАРСКАЯ ОБЛ  \n",
       "1                                       ЛИПЕЦКАЯ ОБЛ  \n",
       "2                                      ОРЛОВСКАЯ ОБЛ  \n",
       "3                                   СВЕРДЛОВСКАЯ ОБЛ  \n",
       "4                                       ЛИПЕЦКАЯ ОБЛ  \n",
       "...                                              ...  \n",
       "3589913                              ВОЛОГОДСКАЯ ОБЛ  \n",
       "3589914  ХАНТЫ-МАНСИЙСКИЙ АВТОНОМНЫЙ ОКРУГ - ЮГРА АО  \n",
       "3589915  ХАНТЫ-МАНСИЙСКИЙ АВТОНОМНЫЙ ОКРУГ - ЮГРА АО  \n",
       "3589916                                КАЛУЖСКАЯ ОБЛ  \n",
       "3589917                               ТАМБОВСКАЯ ОБЛ  \n",
       "\n",
       "[3589918 rows x 4 columns]"
      ]
     },
     "execution_count": 17,
     "metadata": {},
     "output_type": "execute_result"
    }
   ],
   "source": [
    "train[['frst_pmnt_date', 'lst_pmnt_date_per_qrtr', 'postal_code', 'region']]\n",
    "# Дата первого взноса \n",
    "# Дата последнего взноса в квартале \n",
    "# Почтовый индекс, указанный при заключении договора\n",
    "# Регион, указанный при заключении договора"
   ]
  },
  {
   "cell_type": "code",
   "execution_count": 19,
   "id": "d1e5282d-b99e-4207-b2ae-8850577ee677",
   "metadata": {},
   "outputs": [
    {
     "data": {
      "text/plain": [
       "frst_pmnt_date             0.903670\n",
       "lst_pmnt_date_per_qrtr    32.212713\n",
       "postal_code                2.789952\n",
       "region                     3.664986\n",
       "dtype: float64"
      ]
     },
     "execution_count": 19,
     "metadata": {},
     "output_type": "execute_result"
    }
   ],
   "source": [
    "# Глянем а сколько процентов данных в каких колонках отсутствует \n",
    "train[['frst_pmnt_date', 'lst_pmnt_date_per_qrtr', 'postal_code', 'region']].isnull().mean() * 100"
   ]
  },
  {
   "cell_type": "code",
   "execution_count": 20,
   "id": "d7ce382f-2a08-4e0e-a8ef-949e7221dae7",
   "metadata": {},
   "outputs": [],
   "source": [
    "# Как будто lst_pmnt_date_per_qrtr проще удалить "
   ]
  },
  {
   "cell_type": "code",
   "execution_count": 23,
   "id": "5eaf6215-9180-47e7-9a67-b06dbfde7cea",
   "metadata": {},
   "outputs": [
    {
     "data": {
      "text/plain": [
       "448"
      ]
     },
     "execution_count": 23,
     "metadata": {},
     "output_type": "execute_result"
    }
   ],
   "source": [
    "train['region'].nunique()\n",
    "# А должно быть 89... "
   ]
  },
  {
   "cell_type": "code",
   "execution_count": 25,
   "id": "f6a2d4df-0a33-4714-9d5b-cab155ff75ee",
   "metadata": {},
   "outputs": [
    {
     "data": {
      "text/plain": [
       "array([2017, 2009, 2010, 2005, 2007, 2004, 2020, 2021, 2018, 2019, 2012,\n",
       "       1994, 2011, 2016, 2013, 2006, 1999, 2022, 2015, 2008, 2001, 2014,\n",
       "       2002, 2000, 1997, 2003, 1998, 1993, 1996, 1995, 2023], dtype=int64)"
      ]
     },
     "execution_count": 25,
     "metadata": {},
     "output_type": "execute_result"
    }
   ],
   "source": [
    "train['year'].unique() # все норм "
   ]
  },
  {
   "cell_type": "code",
   "execution_count": 29,
   "id": "288f7102-2125-40e3-8bd2-d8ed70da4fd5",
   "metadata": {},
   "outputs": [
    {
     "data": {
      "text/plain": [
       "array(['2017Q4', '2009Q1', '2010Q1', '2005Q4', '2007Q4', '2007Q3',\n",
       "       '2004Q4', '2020Q4', '2021Q1', '2018Q4', '2019Q4', '2009Q3',\n",
       "       '2012Q4', '2019Q1', '1994Q4', '2011Q4', '2016Q4', '2013Q4',\n",
       "       '2021Q2', '2006Q4', '1999Q2', '2022Q3', '2012Q1', '2004Q1',\n",
       "       '2013Q3', '2015Q4', '2020Q2', '2010Q2', '2013Q1', '2015Q2',\n",
       "       '2006Q1', '2022Q4', '2008Q3', '2016Q1', '2001Q4', '2014Q3',\n",
       "       '2010Q4', '2002Q4', '2015Q3', '2015Q1', '2021Q4', '2000Q4',\n",
       "       '2016Q3', '2018Q2', '2002Q3', '2017Q3', '2008Q4', '2017Q1',\n",
       "       '2005Q2', '2019Q3', '2014Q1', '1997Q3', '2022Q1', '2003Q2',\n",
       "       '2017Q2', '2014Q4', '2018Q3', '2011Q2', '2013Q2', '2007Q1',\n",
       "       '2000Q2', '2020Q3', '2021Q3', '2014Q2', '2018Q1', '1994Q2',\n",
       "       '2008Q2', '2019Q2', '2016Q2', '2022Q2', '2020Q1', '2006Q3',\n",
       "       '2002Q2', '2011Q1', '1998Q1', '2010Q3', '2003Q1', '2001Q3',\n",
       "       '1997Q4', '2009Q4', '1999Q1', '2005Q1', '2012Q2', '2011Q3',\n",
       "       '2009Q2', '2007Q2', '2012Q3', '2008Q1', '2001Q1', '2000Q3',\n",
       "       '1999Q4', '2000Q1', '1993Q4', '2002Q1', '2001Q2', '2006Q2',\n",
       "       '1997Q1', '2005Q3', '2003Q3', '1997Q2', '1996Q2', '1994Q3',\n",
       "       '2004Q2', '1994Q1', '1999Q3', '1996Q1', '1996Q4', '1998Q3',\n",
       "       '2004Q3', '1995Q4', '1998Q2', '1998Q4', '1996Q3', '2003Q4',\n",
       "       '1993Q3', '1993Q2', '1995Q1', '1995Q2', '1995Q3', '2023Q1'],\n",
       "      dtype=object)"
      ]
     },
     "execution_count": 29,
     "metadata": {},
     "output_type": "execute_result"
    }
   ],
   "source": [
    "train['quarter'].unique() # все норм "
   ]
  },
  {
   "cell_type": "code",
   "execution_count": 33,
   "id": "758b63a7-d1a6-4f59-9706-fc168216ce90",
   "metadata": {},
   "outputs": [
    {
     "data": {
      "text/plain": [
       "array([ 1, -1], dtype=int64)"
      ]
     },
     "execution_count": 33,
     "metadata": {},
     "output_type": "execute_result"
    }
   ],
   "source": [
    "train['gender'].unique() # норм, эльфов нет "
   ]
  },
  {
   "cell_type": "code",
   "execution_count": 46,
   "id": "a97a105d-cd87-46af-883f-1f022fc8e01b",
   "metadata": {},
   "outputs": [
    {
     "data": {
      "image/png": "[encoded data removed]",
      "text/plain": [
       "<Figure size 2500x1000 with 1 Axes>"
      ]
     },
     "metadata": {},
     "output_type": "display_data"
    }
   ],
   "source": [
    "plt.figure(figsize=(25, 10))\n",
    "sns.countplot(x='age', data=train)\n",
    "plt.title('Распределение возрастов')\n",
    "plt.xlabel('Возраст')\n",
    "plt.ylabel('Количество')\n",
    "plt.xticks(rotation=90)  \n",
    "plt.show()\n",
    "# Были замечены очень молодые клиенты, 3-4 года?? \n",
    "# К тому же клиенты возрастом 0 лет? "
   ]
  },
  {
   "cell_type": "code",
   "execution_count": 57,
   "id": "d7591a31-07d0-4589-894a-53ecafa2000d",
   "metadata": {},
   "outputs": [],
   "source": [
    "# Исправим колонку с регионами : "
   ]
  },
  {
   "cell_type": "code",
   "execution_count": 72,
   "id": "e97367cf-b157-42e9-a816-aac82fbf8d9a",
   "metadata": {},
   "outputs": [],
   "source": [
    "regions = train['region'].sort_values()"
   ]
  },
  {
   "cell_type": "code",
   "execution_count": 74,
   "id": "a1c3a7fa-d5fc-41c2-ac77-94644458032d",
   "metadata": {},
   "outputs": [
    {
     "data": {
      "text/plain": [
       "448"
      ]
     },
     "execution_count": 74,
     "metadata": {},
     "output_type": "execute_result"
    }
   ],
   "source": [
    "regions.nunique()"
   ]
  },
  {
   "cell_type": "code",
   "execution_count": 75,
   "id": "ab918fc3-dc2f-4730-a115-ef4d1be01ac9",
   "metadata": {},
   "outputs": [
    {
     "data": {
      "text/plain": [
       "Index(['slctn_nmbr', 'client_id', 'npo_account_id', 'npo_accnts_nmbr',\n",
       "       'pmnts_type', 'year', 'quarter', 'gender', 'age', 'clnt_cprtn_time_d',\n",
       "       'actv_prd_d', 'lst_pmnt_rcnc_d', 'balance', 'oprtn_sum_per_qrtr',\n",
       "       'oprtn_sum_per_year', 'frst_pmnt_date', 'lst_pmnt_date_per_qrtr',\n",
       "       'frst_pmnt', 'lst_pmnt', 'pmnts_sum', 'pmnts_nmbr',\n",
       "       'pmnts_sum_per_qrtr', 'pmnts_sum_per_year', 'pmnts_nmbr_per_qrtr',\n",
       "       'pmnts_nmbr_per_year', 'incm_sum', 'incm_per_qrtr', 'incm_per_year',\n",
       "       'mgd_accum_period', 'mgd_payment_period', 'phone_number', 'email', 'lk',\n",
       "       'assignee_npo', 'assignee_ops', 'postal_code', 'region', 'citizen',\n",
       "       'fact_addrss', 'appl_mrkr', 'evry_qrtr_pmnt', 'churn'],\n",
       "      dtype='object')"
      ]
     },
     "execution_count": 75,
     "metadata": {},
     "output_type": "execute_result"
    }
   ],
   "source": [
    "train.columns"
   ]
  },
  {
   "cell_type": "code",
   "execution_count": null,
   "id": "4aab2300-c462-4573-a951-ebb61973313f",
   "metadata": {},
   "outputs": [],
   "source": []
  }
 ],
 "metadata": {
  "kernelspec": {
   "display_name": "Python 3 (ipykernel)",
   "language": "python",
   "name": "python3"
  },
  "language_info": {
   "codemirror_mode": {
    "name": "ipython",
    "version": 3
   },
   "file_extension": ".py",
   "mimetype": "text/x-python",
   "name": "python",
   "nbconvert_exporter": "python",
   "pygments_lexer": "ipython3",
   "version": "3.11.7"
  }
 },
 "nbformat": 4,
 "nbformat_minor": 5
}
